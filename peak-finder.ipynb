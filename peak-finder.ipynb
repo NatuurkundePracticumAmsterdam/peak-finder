{
 "cells": [
  {
   "cell_type": "markdown",
   "id": "ff5ad9e8-588a-4c6e-9aa0-2a8830538d21",
   "metadata": {},
   "source": [
    "# Peak finder\n",
    "\n",
    "You can use this notebook to find peaks in your data. If you just want to use it, skip to the section *Running the applet*.\n",
    "\n",
    "## The code"
   ]
  },
  {
   "cell_type": "code",
   "execution_count": null,
   "id": "385e30cd-ec2d-49c0-b060-4712a32cf171",
   "metadata": {},
   "outputs": [],
   "source": [
    "%matplotlib widget"
   ]
  },
  {
   "cell_type": "code",
   "execution_count": null,
   "id": "721af32c-b512-4204-8103-bc1fa8152263",
   "metadata": {},
   "outputs": [],
   "source": [
    "import pandas as pd\n",
    "from scipy import signal\n",
    "import matplotlib.pyplot as plt\n",
    "from ipywidgets import interact, widgets, fixed"
   ]
  },
  {
   "cell_type": "code",
   "execution_count": null,
   "id": "e00651cd-8dff-4b2e-b959-5b2ff3683efb",
   "metadata": {},
   "outputs": [],
   "source": [
    "def plot_peaks(df, clip, smoothing, prominence):\n",
    "    \"\"\"Search for and plot peaks in data.\n",
    "\n",
    "    Data outside the start and stop index is not searched for any peaks. Data\n",
    "    is smoothed by averaging over a triangular window with the width set by\n",
    "    the smoothing parameter. A plot is shown with the raw data, smoothed data\n",
    "    inside the clipping window and the detected peaks.\n",
    "\n",
    "    Args:\n",
    "        df (pandas.DataFrame): a dataframe containing your data.\n",
    "        clip (list[int, int]): the start and stop index of the data.\n",
    "        smoothing (int): the size of the smoothing window.\n",
    "        prominence (float): the minimum required peak prominence.\n",
    "    \"\"\"\n",
    "    i0, i1 = clip\n",
    "    smooth = df[i0:i1].rolling(window=smoothing, win_type=\"triang\", center=True).mean()\n",
    "    x, _ = signal.find_peaks(smooth.I, prominence=prominence)\n",
    "    print(f\"Number of peaks: {len(x)}\")\n",
    "\n",
    "    for art in plt.gca().lines:\n",
    "        art.remove()\n",
    "    plt.plot(df.t, df.I, \"lightgray\")\n",
    "    plt.plot(smooth.t, smooth.I, \"dimgray\")\n",
    "    plt.plot(smooth.t.iloc[x], smooth.I.iloc[x], \"x\", c=\"darkorange\")"
   ]
  },
  {
   "cell_type": "code",
   "execution_count": null,
   "id": "3cebfdea-d69d-4ce3-8f6d-5053dc07ab65",
   "metadata": {},
   "outputs": [],
   "source": [
    "def find_peaks(path):\n",
    "    \"\"\"Find peaks in the data using an applet.\n",
    "\n",
    "    This function will display sliders to easily interact with the peak\n",
    "    finding algorithm and a plot showing the detected peaks.\n",
    "\n",
    "    Args:\n",
    "        path (str): path to the data file.\n",
    "    \"\"\"\n",
    "    df = pd.read_csv(path, names=[\"t\", \"I\"], sep=None, engine=\"python\")\n",
    "    plt.figure()\n",
    "    max_idx = len(df) - 1\n",
    "    wide = widgets.Layout(width=\"500px\")\n",
    "    interact(\n",
    "        plot_peaks,\n",
    "        df=fixed(df),\n",
    "        clip=widgets.IntRangeSlider(\n",
    "            value=[0, max_idx], min=0, max=max_idx, step=1, layout=wide\n",
    "        ),\n",
    "        smoothing=widgets.IntSlider(value=1, min=1, max=25, layout=wide),\n",
    "        prominence=widgets.FloatSlider(\n",
    "            value=0.05, min=0.0, max=0.1, step=0.001, readout_format=\".3f\", layout=wide\n",
    "        ),\n",
    "    )"
   ]
  },
  {
   "cell_type": "markdown",
   "id": "a88a1b5b-aff3-4a6a-887e-093aba508bb5",
   "metadata": {},
   "source": [
    "## Running the applet\n",
    "\n",
    "Change the path name in the `find_peaks()` call and run the cell to count the peaks in your data."
   ]
  },
  {
   "cell_type": "code",
   "execution_count": null,
   "id": "563af448-c5c4-40a8-9d55-a2b0cb59b1f1",
   "metadata": {},
   "outputs": [],
   "source": [
    "find_peaks(\"mydatafile.csv\")"
   ]
  },
  {
   "cell_type": "code",
   "execution_count": null,
   "id": "fa72e807-30d9-4985-8e6b-d0a4256a4724",
   "metadata": {},
   "outputs": [],
   "source": []
  }
 ],
 "metadata": {
  "kernelspec": {
   "display_name": "Python 3 (ipykernel)",
   "language": "python",
   "name": "python3"
  },
  "language_info": {
   "codemirror_mode": {
    "name": "ipython",
    "version": 3
   },
   "file_extension": ".py",
   "mimetype": "text/x-python",
   "name": "python",
   "nbconvert_exporter": "python",
   "pygments_lexer": "ipython3",
   "version": "3.11.8"
  }
 },
 "nbformat": 4,
 "nbformat_minor": 5
}
